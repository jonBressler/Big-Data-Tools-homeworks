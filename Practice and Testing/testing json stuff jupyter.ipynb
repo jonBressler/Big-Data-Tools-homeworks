{
 "cells": [
  {
   "cell_type": "code",
   "execution_count": 4,
   "id": "e9c729cc",
   "metadata": {},
   "outputs": [],
   "source": [
    "import json\n",
    "\n",
    "json_string = '''\n",
    "    {\n",
    "        \"students\":[\n",
    "            {\n",
    "                \"id\": 1,\n",
    "                \"name\": \"Tim\",\n",
    "                \"age\": 21,\n",
    "                \"full-time\": true\n",
    "            },\n",
    "            {\n",
    "                \"id\": 2,\n",
    "                \"name\": \"Joe\",\n",
    "                \"age\": 33,\n",
    "                \"full-time\": false\n",
    "            }\n",
    "        ]\n",
    "    }\n",
    "'''"
   ]
  },
  {
   "cell_type": "code",
   "execution_count": 14,
   "id": "91574479",
   "metadata": {},
   "outputs": [
    {
     "name": "stdout",
     "output_type": "stream",
     "text": [
      "[{'id': 1, 'name': 'Tim', 'age': 21, 'full-time': True}, {'id': 2, 'name': 'Joe', 'age': 33, 'full-time': False}]\n"
     ]
    }
   ],
   "source": [
    "data = json.loads(json_string)\n",
    "print(data['students'])"
   ]
  },
  {
   "cell_type": "code",
   "execution_count": 5,
   "id": "06dfd512",
   "metadata": {},
   "outputs": [
    {
     "ename": "ModuleNotFoundError",
     "evalue": "No module named 'yaml'",
     "output_type": "error",
     "traceback": [
      "\u001b[0;31m---------------------------------------------------------------------------\u001b[0m",
      "\u001b[0;31mModuleNotFoundError\u001b[0m                       Traceback (most recent call last)",
      "Cell \u001b[0;32mIn [5], line 1\u001b[0m\n\u001b[0;32m----> 1\u001b[0m \u001b[38;5;28;01mimport\u001b[39;00m \u001b[38;5;21;01myaml\u001b[39;00m\n\u001b[1;32m      3\u001b[0m \u001b[38;5;28;01mfrom\u001b[39;00m \u001b[38;5;21;01mdb_config\u001b[39;00m \u001b[38;5;28;01mimport\u001b[39;00m get_redis_connection\n\u001b[1;32m      5\u001b[0m r \u001b[38;5;241m=\u001b[39m get_redis_connection()\n",
      "\u001b[0;31mModuleNotFoundError\u001b[0m: No module named 'yaml'"
     ]
    }
   ],
   "source": [
    "import yaml\n",
    "\n",
    "from db_config import get_redis_connection\n",
    "\n",
    "r = get_redis_connection()\n",
    "\n",
    "r.flushall()\n",
    "\n",
    "## Store a String Key\n",
    "r.set(\"name\", \"Rachel\")\n"
   ]
  }
 ],
 "metadata": {
  "kernelspec": {
   "display_name": "Python 3 (ipykernel)",
   "language": "python",
   "name": "python3"
  },
  "language_info": {
   "codemirror_mode": {
    "name": "ipython",
    "version": 3
   },
   "file_extension": ".py",
   "mimetype": "text/x-python",
   "name": "python",
   "nbconvert_exporter": "python",
   "pygments_lexer": "ipython3",
   "version": "3.10.4"
  }
 },
 "nbformat": 4,
 "nbformat_minor": 5
}
