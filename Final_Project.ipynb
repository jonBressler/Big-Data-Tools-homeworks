{
 "cells": [
  {
   "cell_type": "code",
   "execution_count": 21,
   "metadata": {},
   "outputs": [
    {
     "name": "stderr",
     "output_type": "stream",
     "text": [
      "/var/folders/86/5dl876kx7yzg1gqqrvt1qhb00000gn/T/ipykernel_10755/1950927956.py:32: DeprecationWarning: Redis.hmset() is deprecated. Use Redis.hset() instead.\n",
      "  r.hmset(key, value)\n"
     ]
    },
    {
     "name": "stdout",
     "output_type": "stream",
     "text": [
      "CSV data stored in Redis.\n"
     ]
    }
   ],
   "source": [
    "# Dataset being used: https://www.kaggle.com/datasets/okhiriadaveoseghale/100000-sales-records\n",
    "from db_config import get_redis_connection\n",
    "import csv\n",
    "import json\n",
    "import redis\n",
    "from redis import Redis\n",
    "import pandas as pd\n",
    "\n",
    "# Connect to RedisLabs\n",
    "# CONNECT TO REDIS\n",
    "r = get_redis_connection() #this is the way Prof does it in order to not expose credentials\n",
    "# r = redis.Redis(\n",
    "#     host='redis-11906.c56.east-us.azure.cloud.redislabs.com',\n",
    "#     port=11906,\n",
    "#     db=0,\n",
    "#     username='default',\n",
    "#     password='password',\n",
    "#     ssl=False  # Enable SSL if your Redis server requires it\n",
    "# )\n",
    "\n",
    "r.ping() # Pinging Redis server to verify connection. Will return 'True' if good.\n",
    "\n",
    "# Read the CSV file and import data into Redis\n",
    "with open('Sales_Records.csv', 'r') as csvfile:\n",
    "    csvreader = csv.reader(csvfile)\n",
    "    headers = next(csvreader)  # Assuming the first row contains column headers\n",
    "    for row in csvreader:\n",
    "        key = f'row_{row[0]}'  # Assuming the first column contains a unique identifier\n",
    "        value = {}\n",
    "        for i in range(1, len(row)):  # Start from index 1 to skip the unique identifier column\n",
    "            value[headers[i]] = row[i]  # Assuming headers correspond to column names\n",
    "        r.hmset(key, value)\n",
    "\n",
    "print('CSV data stored in Redis.')\n",
    "\n",
    "\n",
    "# # Just taking a look at the CSV before putting it into Redis\n",
    "# # Load the CSV file into a DataFrame\n",
    "# df = pd.read_csv('Sales_Records.csv')\n",
    "# # View the first 10 rows of the DataFrame\n",
    "# first_10_rows = df.head(10)\n",
    "# # Print the first 10 rows\n",
    "# print(first_10_rows)\n",
    "\n"
   ]
  }
 ],
 "metadata": {
  "kernelspec": {
   "display_name": "Python 3",
   "language": "python",
   "name": "python3"
  },
  "language_info": {
   "codemirror_mode": {
    "name": "ipython",
    "version": 3
   },
   "file_extension": ".py",
   "mimetype": "text/x-python",
   "name": "python",
   "nbconvert_exporter": "python",
   "pygments_lexer": "ipython3",
   "version": "3.10.4"
  }
 },
 "nbformat": 4,
 "nbformat_minor": 2
}
